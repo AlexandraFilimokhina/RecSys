{
 "cells": [
  {
   "cell_type": "code",
   "execution_count": 2,
   "metadata": {},
   "outputs": [],
   "source": [
    "import numpy as np \n",
    "import pandas as pd\n",
    "import datetime as dt\n",
    "import xgboost as xgb\n",
    "import seaborn as sns\n",
    "import matplotlib.pyplot as plt\n",
    "import category_encoders as ce\n",
    "import lightgbm as lgb\n",
    "import shap\n",
    "import optuna\n",
    "from sklearn.metrics import roc_auc_score\n",
    "from sklearn.model_selection import train_test_split, StratifiedKFold, KFold\n",
    "\n",
    "\n",
    "%config InlineBackend.figure_format = 'retina'"
   ]
  },
  {
   "cell_type": "markdown",
   "metadata": {},
   "source": [
    "### Task 1: GBDT"
   ]
  },
  {
   "cell_type": "markdown",
   "metadata": {},
   "source": [
    "### Загрузка данных"
   ]
  },
  {
   "cell_type": "code",
   "execution_count": 104,
   "metadata": {},
   "outputs": [],
   "source": [
    "train_types = {'msno' : 'category',\n",
    "               'source_system_tab' : 'category',\n",
    "               'source_screen_name' : 'category',\n",
    "               'source_type' : 'category',\n",
    "               'target' : np.uint8,\n",
    "               'song_id' : 'category'}\n",
    "\n",
    "test_types = {'msno' : 'category',\n",
    "              'source_system_tab' : 'category',\n",
    "              'source_screen_name' : 'category',\n",
    "              'source_type' : 'category',\n",
    "              'song_id' : 'category'}\n",
    "\n",
    "songs_types = {'genre_ids': 'category',\n",
    "               'language' : 'category',\n",
    "               'artist_name' : 'category',\n",
    "               'composer' : 'category',\n",
    "               'lyricist' : 'category',\n",
    "               'song_id' : 'category'}\n",
    "\n",
    "members_types = {'city' : 'category',\n",
    "                 'bd' : np.uint8,\n",
    "                 'gender' : 'category',\n",
    "                 'registered_via' : 'category'}\n",
    "\n",
    "train = pd.read_csv('train.csv', dtype=train_types)\n",
    "test = pd.read_csv('test.csv', dtype=test_types)\n",
    "songs = pd.read_csv('songs.csv', dtype=songs_types)\n",
    "members = pd.read_csv('members.csv',dtype=members_types, parse_dates=['registration_init_time','expiration_date'])\n",
    "songs_extra = pd.read_csv('song_extra_info.csv')"
   ]
  },
  {
   "cell_type": "markdown",
   "metadata": {},
   "source": [
    "### Обработка данных"
   ]
  },
  {
   "cell_type": "code",
   "execution_count": 105,
   "metadata": {},
   "outputs": [],
   "source": [
    "def print_nan(df):\n",
    "    for col in df.columns:\n",
    "        print(f\"{100*df[col].isna().sum()/df[col].shape[0]} % Nan of {col}\")\n",
    "        \n",
    "def merge(train, test, df, name):\n",
    "    train = train.merge(df, on=name, how='left')\n",
    "    test = test.merge(df, on=name, how='left')\n",
    "    return train, test"
   ]
  },
  {
   "cell_type": "code",
   "execution_count": 106,
   "metadata": {},
   "outputs": [],
   "source": [
    "#датасет members"
   ]
  },
  {
   "cell_type": "code",
   "execution_count": 107,
   "metadata": {},
   "outputs": [
    {
     "name": "stdout",
     "output_type": "stream",
     "text": [
      "0.0 % Nan of msno\n",
      "0.0 % Nan of city\n",
      "0.0 % Nan of bd\n",
      "57.849606138999505 % Nan of gender\n",
      "0.0 % Nan of registered_via\n",
      "0.0 % Nan of registration_init_time\n",
      "0.0 % Nan of expiration_date\n"
     ]
    }
   ],
   "source": [
    "print_nan(members)"
   ]
  },
  {
   "cell_type": "code",
   "execution_count": 108,
   "metadata": {},
   "outputs": [],
   "source": [
    "def year_month_day(col):\n",
    "    return col.dt.year, col.dt.month, col.dt.day\n",
    "\n",
    "#фича пол содержит больше половины nan, заменим их на <unknown> gender\n",
    "members['gender'] = members['gender'].astype('str').replace('nan', 'unknown').astype('category')\n",
    "#извлечем год, месяц, день регистрации и конца пользования\n",
    "members['registration_year'], members['registration_month'], members['registration_day']  = year_month_day(members.registration_init_time)\n",
    "members['expiration_year'], members['expiration_month'], members['expiration_day'] = year_month_day(members.expiration_date)\n",
    "\n",
    "#добавим данные к трейну и тесту \n",
    "members = members.drop(['registration_init_time', 'expiration_date'], axis=1)\n",
    "train, test = merge(train, test, members, \"msno\")\n",
    "del members"
   ]
  },
  {
   "cell_type": "code",
   "execution_count": 109,
   "metadata": {},
   "outputs": [],
   "source": [
    "#датасет songs"
   ]
  },
  {
   "cell_type": "code",
   "execution_count": 110,
   "metadata": {},
   "outputs": [
    {
     "name": "stdout",
     "output_type": "stream",
     "text": [
      "0.0 % Nan of song_id\n",
      "0.0 % Nan of song_length\n",
      "4.0985576923076925 % Nan of genre_ids\n",
      "0.0 % Nan of artist_name\n",
      "46.65525710702341 % Nan of composer\n",
      "84.71240942028986 % Nan of lyricist\n",
      "4.35479375696767e-05 % Nan of language\n"
     ]
    }
   ],
   "source": [
    "print_nan(songs)"
   ]
  },
  {
   "cell_type": "code",
   "execution_count": 111,
   "metadata": {},
   "outputs": [],
   "source": [
    "#удалим composer и lyricist которые содержат слишком много nan values\n",
    "songs = songs.drop(['composer', 'lyricist'], axis=1)\n",
    "train, test = merge(train, test, songs, \"song_id\")\n",
    "del songs "
   ]
  },
  {
   "cell_type": "code",
   "execution_count": 112,
   "metadata": {},
   "outputs": [],
   "source": [
    "#датасет songs"
   ]
  },
  {
   "cell_type": "code",
   "execution_count": 113,
   "metadata": {},
   "outputs": [
    {
     "name": "stdout",
     "output_type": "stream",
     "text": [
      "0.0 % Nan of song_id\n",
      "8.710911418306241e-05 % Nan of name\n",
      "5.9472876617344035 % Nan of isrc\n"
     ]
    }
   ],
   "source": [
    "print_nan(songs_extra)"
   ]
  },
  {
   "cell_type": "code",
   "execution_count": 114,
   "metadata": {},
   "outputs": [],
   "source": [
    "def isrc_to_year(isrc):\n",
    "    if type(isrc) == str:\n",
    "        year = int(isrc[5:7])\n",
    "        if year > 17:\n",
    "            return 1900 + year\n",
    "        else:\n",
    "            return 2000 + year\n",
    "    else:\n",
    "        return np.nan\n",
    "    \n",
    "#извлечем год и страну песен\n",
    "songs_extra['country'] = songs_extra['isrc'].apply(lambda x: x[:2] if type(x) == str else np.nan)\n",
    "songs_extra['song_year'] = songs_extra['isrc'].apply(isrc_to_year)\n",
    "songs_extra.drop(['isrc', 'name'], axis = 1, inplace = True)\n",
    "train, test = merge(train, test, songs_extra, \"song_id\")\n",
    "del songs_extra"
   ]
  },
  {
   "cell_type": "code",
   "execution_count": 115,
   "metadata": {},
   "outputs": [],
   "source": [
    "for col in train.columns:\n",
    "    if train[col].dtype == object:\n",
    "        train[col] = train[col].astype('category')\n",
    "        test[col] = test[col].astype('category')"
   ]
  },
  {
   "cell_type": "code",
   "execution_count": 116,
   "metadata": {},
   "outputs": [],
   "source": [
    "#nan для song_length заменим на среднее значение на трейне и тесте\n",
    "train['song_length'].fillna((train['song_length'].mean()), inplace=True)\n",
    "test['song_length'].fillna((train['song_length'].mean()), inplace=True)"
   ]
  },
  {
   "cell_type": "markdown",
   "metadata": {},
   "source": [
    "### Фичи счетчики"
   ]
  },
  {
   "cell_type": "code",
   "execution_count": 117,
   "metadata": {},
   "outputs": [],
   "source": [
    "#введем фичи: сколько пользователь слушал песен, популярность данного жанра по всем юзерам, популярность артиста\n",
    "dict_user_activity = {k:v for k,v in pd.concat([train['msno'] , test['msno']] , axis = 0).value_counts().iteritems()}\n",
    "dict_genre_pop = {k:v for k,v in pd.concat([train['genre_ids'] , test['genre_ids']] , axis = 0).value_counts().iteritems()}\n",
    "dict_artist_pop = {k:v for k,v in pd.concat([train['artist_name'] , test['artist_name']] , axis = 0).value_counts().iteritems()}\n",
    "\n",
    "def find_in_dict(x, dict_):\n",
    "    try:\n",
    "        return dict_[x]\n",
    "    except KeyError:\n",
    "        return 0\n",
    "\n",
    "train[\"index\"]  = train.index\n",
    "train['user_activity_msno'] = train['msno'].apply(lambda x: find_in_dict(x, dict_user_activity))\n",
    "test['user_activity_msno'] = test['msno'].apply(lambda x: find_in_dict(x, dict_user_activity))\n",
    "\n",
    "train['genres_pop'] = train['genre_ids'].apply(lambda x: find_in_dict(x, dict_genre_pop))\n",
    "test['genres_pop'] = test['genre_ids'].apply(lambda x: find_in_dict(x, dict_genre_pop))\n",
    "\n",
    "train['artist_pop'] = train['artist_name'].apply(lambda x: find_in_dict(x, dict_artist_pop))\n",
    "test['artist_pop'] = test['artist_name'].apply(lambda x: find_in_dict(x, dict_artist_pop))\n",
    "\n",
    "#введем фичи: какая песенка у пользователя по счету из прослушанных такого жанра и такого артиста сгладим логарифмом \n",
    "train['msno_genre'] = train['msno'].astype(str) + \"+\" + train['genre_ids'].astype(str)\n",
    "train['msno_artist'] = train['msno'].astype(str) + \"+\" + train['artist_name'].astype(str)\n",
    "train['genre_hist'] = train.groupby('msno_genre').index.rank(method='min').astype(int)/np.log(train[\"index\"]+2)\n",
    "train['artists_hist'] = train.groupby('msno_artist').index.rank(method='min').astype(int)/np.log(train[\"index\"]+2)"
   ]
  },
  {
   "cell_type": "markdown",
   "metadata": {},
   "source": [
    "### Подбор параметров"
   ]
  },
  {
   "cell_type": "code",
   "execution_count": 135,
   "metadata": {},
   "outputs": [],
   "source": [
    "X = train.drop(['target','msno', 'song_id', 'msno_artist', 'msno_genre', 'index'], axis=1)\n",
    "y = train['target']"
   ]
  },
  {
   "cell_type": "code",
   "execution_count": 154,
   "metadata": {},
   "outputs": [
    {
     "name": "stderr",
     "output_type": "stream",
     "text": [
      "\u001b[32m[I 2020-11-02 23:10:55,611]\u001b[0m A new study created in memory with name: no-name-da50bda8-4c37-46b1-ae95-6430c09660a5\u001b[0m\n"
     ]
    },
    {
     "name": "stdout",
     "output_type": "stream",
     "text": [
      "[25]\ttraining's auc: 0.723879\tvalid_1's auc: 0.719329\n",
      "[50]\ttraining's auc: 0.732941\tvalid_1's auc: 0.726311\n"
     ]
    },
    {
     "name": "stderr",
     "output_type": "stream",
     "text": [
      "\u001b[32m[I 2020-11-02 23:12:19,116]\u001b[0m Trial 0 finished with value: 0.7263113554047584 and parameters: {'learning_rate': 0.26, 'max_depth': 7, 'lambda_l1': 3.5, 'lambda_l2': 8.0}. Best is trial 0 with value: 0.7263113554047584.\u001b[0m\n"
     ]
    },
    {
     "name": "stdout",
     "output_type": "stream",
     "text": [
      "[25]\ttraining's auc: 0.733799\tvalid_1's auc: 0.726526\n",
      "[50]\ttraining's auc: 0.743192\tvalid_1's auc: 0.733012\n"
     ]
    },
    {
     "name": "stderr",
     "output_type": "stream",
     "text": [
      "\u001b[32m[I 2020-11-02 23:13:32,802]\u001b[0m Trial 1 finished with value: 0.7330122930001638 and parameters: {'learning_rate': 0.29000000000000004, 'max_depth': 8, 'lambda_l1': 3.5, 'lambda_l2': 6.5}. Best is trial 1 with value: 0.7330122930001638.\u001b[0m\n"
     ]
    },
    {
     "name": "stdout",
     "output_type": "stream",
     "text": [
      "[25]\ttraining's auc: 0.714872\tvalid_1's auc: 0.712473\n",
      "[50]\ttraining's auc: 0.723271\tvalid_1's auc: 0.719489\n"
     ]
    },
    {
     "name": "stderr",
     "output_type": "stream",
     "text": [
      "\u001b[32m[I 2020-11-02 23:14:51,336]\u001b[0m Trial 2 finished with value: 0.7194886132116877 and parameters: {'learning_rate': 0.2, 'max_depth': 6, 'lambda_l1': 4.0, 'lambda_l2': 7.5}. Best is trial 1 with value: 0.7330122930001638.\u001b[0m\n"
     ]
    },
    {
     "name": "stdout",
     "output_type": "stream",
     "text": [
      "[25]\ttraining's auc: 0.743588\tvalid_1's auc: 0.732852\n",
      "[50]\ttraining's auc: 0.756616\tvalid_1's auc: 0.74119\n"
     ]
    },
    {
     "name": "stderr",
     "output_type": "stream",
     "text": [
      "\u001b[32m[I 2020-11-02 23:16:23,022]\u001b[0m Trial 3 finished with value: 0.7411900321094568 and parameters: {'learning_rate': 0.24000000000000002, 'max_depth': 10, 'lambda_l1': 1.5, 'lambda_l2': 7.5}. Best is trial 3 with value: 0.7411900321094568.\u001b[0m\n"
     ]
    },
    {
     "name": "stdout",
     "output_type": "stream",
     "text": [
      "[25]\ttraining's auc: 0.724895\tvalid_1's auc: 0.720146\n",
      "[50]\ttraining's auc: 0.732744\tvalid_1's auc: 0.725937\n"
     ]
    },
    {
     "name": "stderr",
     "output_type": "stream",
     "text": [
      "\u001b[32m[I 2020-11-02 23:17:46,017]\u001b[0m Trial 4 finished with value: 0.725937193869723 and parameters: {'learning_rate': 0.26, 'max_depth': 7, 'lambda_l1': 1.0, 'lambda_l2': 1.0}. Best is trial 3 with value: 0.7411900321094568.\u001b[0m\n"
     ]
    },
    {
     "name": "stdout",
     "output_type": "stream",
     "text": [
      "[25]\ttraining's auc: 0.708804\tvalid_1's auc: 0.70749\n",
      "[50]\ttraining's auc: 0.715896\tvalid_1's auc: 0.713753\n"
     ]
    },
    {
     "name": "stderr",
     "output_type": "stream",
     "text": [
      "\u001b[32m[I 2020-11-02 23:18:54,076]\u001b[0m Trial 5 finished with value: 0.7137531881700545 and parameters: {'learning_rate': 0.2, 'max_depth': 5, 'lambda_l1': 9.0, 'lambda_l2': 6.5}. Best is trial 3 with value: 0.7411900321094568.\u001b[0m\n"
     ]
    },
    {
     "name": "stdout",
     "output_type": "stream",
     "text": [
      "[25]\ttraining's auc: 0.7226\tvalid_1's auc: 0.718593\n",
      "[50]\ttraining's auc: 0.732288\tvalid_1's auc: 0.725925\n"
     ]
    },
    {
     "name": "stderr",
     "output_type": "stream",
     "text": [
      "\u001b[32m[I 2020-11-02 23:20:14,210]\u001b[0m Trial 6 finished with value: 0.7259245275462537 and parameters: {'learning_rate': 0.21000000000000002, 'max_depth': 7, 'lambda_l1': 2.0, 'lambda_l2': 5.5}. Best is trial 3 with value: 0.7411900321094568.\u001b[0m\n"
     ]
    },
    {
     "name": "stdout",
     "output_type": "stream",
     "text": [
      "[25]\ttraining's auc: 0.731695\tvalid_1's auc: 0.724988\n",
      "[50]\ttraining's auc: 0.741115\tvalid_1's auc: 0.731759\n"
     ]
    },
    {
     "name": "stderr",
     "output_type": "stream",
     "text": [
      "\u001b[32m[I 2020-11-02 23:21:30,848]\u001b[0m Trial 7 finished with value: 0.7317590503708766 and parameters: {'learning_rate': 0.29000000000000004, 'max_depth': 8, 'lambda_l1': 6.0, 'lambda_l2': 5.0}. Best is trial 3 with value: 0.7411900321094568.\u001b[0m\n"
     ]
    },
    {
     "name": "stdout",
     "output_type": "stream",
     "text": [
      "[25]\ttraining's auc: 0.718216\tvalid_1's auc: 0.715316\n",
      "[50]\ttraining's auc: 0.725726\tvalid_1's auc: 0.721211\n"
     ]
    },
    {
     "name": "stderr",
     "output_type": "stream",
     "text": [
      "\u001b[32m[I 2020-11-02 23:22:39,275]\u001b[0m Trial 8 finished with value: 0.7212105016041945 and parameters: {'learning_rate': 0.26, 'max_depth': 6, 'lambda_l1': 0.5, 'lambda_l2': 0.0}. Best is trial 3 with value: 0.7411900321094568.\u001b[0m\n"
     ]
    },
    {
     "name": "stdout",
     "output_type": "stream",
     "text": [
      "[25]\ttraining's auc: 0.744013\tvalid_1's auc: 0.733116\n",
      "[50]\ttraining's auc: 0.759174\tvalid_1's auc: 0.742952\n"
     ]
    },
    {
     "name": "stderr",
     "output_type": "stream",
     "text": [
      "\u001b[32m[I 2020-11-02 23:24:40,205]\u001b[0m Trial 9 finished with value: 0.7429523705656211 and parameters: {'learning_rate': 0.27, 'max_depth': 10, 'lambda_l1': 2.0, 'lambda_l2': 2.5}. Best is trial 9 with value: 0.7429523705656211.\u001b[0m\n"
     ]
    }
   ],
   "source": [
    "X_train, X_test, y_train, y_test = train_test_split(X, y, test_size=0.2, random_state=1)\n",
    "\n",
    "lgbtrain = lgb.Dataset(X_train, y_train)\n",
    "lgbval = lgb.Dataset(X_test, y_test)\n",
    "\n",
    "def objective(trial):\n",
    "\n",
    "    \n",
    "    param = {\n",
    "        'num_leaves': 256,\n",
    "        'objective': 'binary',\n",
    "        \"metric\":'auc',\n",
    "        'learning_rate': trial.suggest_float('learning_rate', 0.2, 0.3, step = 0.01),\n",
    "        'max_depth': trial.suggest_int('max_depth', 5, 10),\n",
    "        'verbosity': -1,\n",
    "        'lambda_l1': trial.suggest_float('lambda_l1', 0, 10, step = 0.5),\n",
    "        'lambda_l2': trial.suggest_float('lambda_l2', 0, 10, step = 0.5),\n",
    "        \"seed\": 0,\n",
    "        \"nthread\": -1     \n",
    "    }\n",
    "    evals={}\n",
    "    gbm = lgb.train(param, \n",
    "                    train_set=lgbtrain, \n",
    "                    num_boost_round=50, \n",
    "                    valid_sets = [lgbtrain, lgbval], \n",
    "                    verbose_eval = 25,\n",
    "                    evals_result=evals)\n",
    "    auc = np.array(evals['valid_1']['auc'])\n",
    "    return np.max(auc)\n",
    "\n",
    "study = optuna.create_study(direction='maximize')\n",
    "study.optimize(objective, n_trials=10)"
   ]
  },
  {
   "cell_type": "code",
   "execution_count": 161,
   "metadata": {},
   "outputs": [],
   "source": [
    "def training_lgb(data):\n",
    "    X_train, y_train, X_test, y_test = data \n",
    "    lgbtrain = lgb.Dataset(X_train, y_train)\n",
    "    lgbval = lgb.Dataset(X_test, y_test)\n",
    "\n",
    "\n",
    "    params = {'objective': 'binary',\n",
    "              'learning_rate': 0.27,\n",
    "              'metric': 'auc',\n",
    "              'max_depth': 10, \n",
    "              'num_leaves': 256, \n",
    "              'lambda_l1': 2.0,\n",
    "              'lambda_l2': 2.5}\n",
    "\n",
    "    gbm = lgb.train(params, \n",
    "                      train_set=lgbtrain, \n",
    "                      num_boost_round=100, \n",
    "                      \n",
    "                      verbose_eval=25,\n",
    "                      valid_sets=[lgbtrain, lgbval],)\n",
    "    y_pred = gbm.predict(X_test)\n",
    "    auc = roc_auc_score(y_test, y_pred)\n",
    "    return gbm, auc"
   ]
  },
  {
   "cell_type": "code",
   "execution_count": 188,
   "metadata": {},
   "outputs": [],
   "source": [
    "def k_fold_training(X, y, k=5):\n",
    "    aucs = []\n",
    "    kf = StratifiedKFold(n_splits=k, shuffle=True)\n",
    "    \"\"\"\n",
    "    по идее так должно норм по юзерам разбивать \n",
    "    \"\"\"\n",
    "    \n",
    "    for i, (train_ind, test_ind) in enumerate(kf.split(X, train['msno'])):\n",
    "        print(f\"Folder {i+1}:\")\n",
    "    \n",
    "        X_train, y_train = X.iloc[train_ind], y.iloc[train_ind]\n",
    "        X_test, y_test = X.iloc[test_ind], y.iloc[test_ind]\n",
    "        \n",
    "        X_train, X_val, y_train, y_tval = train_test_split(X_train, y_train, test_size=0.2, random_state=10, stratify=y_train)\n",
    "        \n",
    "\n",
    "#         model, score = training_lgb((X_train, y_train, X_test, y_test))\n",
    "#         stats.append((score, model, X_test))\n",
    "\n",
    "        lgbtrain = lgb.Dataset(X_train, y_train)\n",
    "        lgbval = lgb.Dataset(X_val, y_tval)\n",
    "\n",
    "\n",
    "        params = {'objective': 'binary',\n",
    "                  'learning_rate': 0.27,\n",
    "                  'metric': 'auc',\n",
    "                  'max_depth': 10, \n",
    "                  'num_leaves': 256, \n",
    "                  'lambda_l1': 2.0,\n",
    "                  'lambda_l2': 2.5}\n",
    "\n",
    "        gbm = lgb.train(params, \n",
    "                          train_set=lgbtrain, \n",
    "                          num_boost_round=100, \n",
    "\n",
    "                          verbose_eval=25,\n",
    "                          valid_sets=[lgbtrain, lgbval],)\n",
    "        y_pred = gbm.predict(X_test)\n",
    "        auc = roc_auc_score(y_test, y_pred)\n",
    "        print(auc)\n",
    "        aucs.append(auc)\n",
    "   \n",
    "    print(f'Mean AUC_ROC: {np.mean(aucs):.3f} with {k} folds')"
   ]
  },
  {
   "cell_type": "code",
   "execution_count": 160,
   "metadata": {},
   "outputs": [],
   "source": [
    "def split_training(X, y):\n",
    "    X_train, X_test, y_train, y_test = train_test_split(X, y, test_size=0.2, random_state=1, stratify=y)\n",
    "    model, score = training_lgb((X_train, y_train, X_test, y_test))\n",
    "    return model\n",
    "\n",
    "def feture_imps(model):\n",
    "    df_feat = pd.DataFrame(data=model.feature_importance(), index=model.feature_name(), columns=['importance'])\n",
    "    df_feat = df_feat.sort_values(by='importance', ascending=False)\n",
    "    df_feat['feat'] = df_feat.index\n",
    "    return df_feat"
   ]
  },
  {
   "cell_type": "code",
   "execution_count": 163,
   "metadata": {},
   "outputs": [
    {
     "name": "stdout",
     "output_type": "stream",
     "text": [
      "[25]\ttraining's auc: 0.741336\tvalid_1's auc: 0.731534\n",
      "[50]\ttraining's auc: 0.754445\tvalid_1's auc: 0.740408\n",
      "[75]\ttraining's auc: 0.763384\tvalid_1's auc: 0.745765\n",
      "[100]\ttraining's auc: 0.769511\tvalid_1's auc: 0.749081\n"
     ]
    }
   ],
   "source": [
    "model = split_training(X, y)"
   ]
  },
  {
   "cell_type": "code",
   "execution_count": 164,
   "metadata": {},
   "outputs": [],
   "source": [
    "X_train, X_test, y_train, y_test = train_test_split(X, y, test_size=0.2, random_state=1)"
   ]
  },
  {
   "cell_type": "markdown",
   "metadata": {},
   "source": [
    "### SHAP values"
   ]
  },
  {
   "cell_type": "code",
   "execution_count": 165,
   "metadata": {},
   "outputs": [
    {
     "name": "stderr",
     "output_type": "stream",
     "text": [
      "/Library/miniconda3/lib/python3.8/site-packages/shap/explainers/_tree.py:292: UserWarning:\n",
      "\n",
      "LightGBM binary classifier with TreeExplainer shap values output has changed to a list of ndarray\n",
      "\n"
     ]
    }
   ],
   "source": [
    "shap_values = shap.TreeExplainer(model).shap_values(X_test)"
   ]
  },
  {
   "cell_type": "code",
   "execution_count": 170,
   "metadata": {},
   "outputs": [
    {
     "data": {
      "image/png": "[encoded data removed]",
      "text/plain": [
       "<Figure size 576x799.2 with 1 Axes>"
      ]
     },
     "metadata": {
      "image/png": {
       "height": 652,
       "width": 604
      },
      "needs_background": "light"
     },
     "output_type": "display_data"
    }
   ],
   "source": [
    "shap.summary_plot(shap_values, X_test, max_display=X_test.shape[1])"
   ]
  },
  {
   "cell_type": "code",
   "execution_count": 171,
   "metadata": {},
   "outputs": [],
   "source": [
    "#Удалим наименне значимые фичи\n",
    "X_new = X.drop(['country','genres_pop', 'country', 'gender', 'language'], axis=1)"
   ]
  },
  {
   "cell_type": "code",
   "execution_count": 172,
   "metadata": {},
   "outputs": [
    {
     "name": "stdout",
     "output_type": "stream",
     "text": [
      "[25]\ttraining's auc: 0.742423\tvalid_1's auc: 0.732716\n",
      "[50]\ttraining's auc: 0.755066\tvalid_1's auc: 0.740843\n",
      "[75]\ttraining's auc: 0.76463\tvalid_1's auc: 0.746506\n",
      "[100]\ttraining's auc: 0.771657\tvalid_1's auc: 0.750276\n"
     ]
    }
   ],
   "source": [
    "model_new = split_training(X_new, y)"
   ]
  },
  {
   "cell_type": "code",
   "execution_count": null,
   "metadata": {},
   "outputs": [],
   "source": [
    "#качество немного улучшилось"
   ]
  },
  {
   "cell_type": "markdown",
   "metadata": {},
   "source": [
    "### Кросс валидация"
   ]
  },
  {
   "cell_type": "code",
   "execution_count": null,
   "metadata": {},
   "outputs": [],
   "source": [
    "#разбивает т о чтобы в фолды попадало равномерно одного и того же юзера"
   ]
  },
  {
   "cell_type": "code",
   "execution_count": 189,
   "metadata": {},
   "outputs": [
    {
     "name": "stderr",
     "output_type": "stream",
     "text": [
      "/Library/miniconda3/lib/python3.8/site-packages/sklearn/model_selection/_split.py:670: UserWarning:\n",
      "\n",
      "The least populated class in y has only 1 members, which is less than n_splits=5.\n",
      "\n"
     ]
    },
    {
     "name": "stdout",
     "output_type": "stream",
     "text": [
      "Folder 1:\n",
      "[25]\ttraining's auc: 0.741776\tvalid_1's auc: 0.729724\n",
      "[50]\ttraining's auc: 0.75521\tvalid_1's auc: 0.738241\n",
      "[75]\ttraining's auc: 0.763613\tvalid_1's auc: 0.742834\n",
      "[100]\ttraining's auc: 0.770947\tvalid_1's auc: 0.746263\n",
      "0.7467767552355191\n",
      "Folder 2:\n",
      "[25]\ttraining's auc: 0.743748\tvalid_1's auc: 0.731018\n",
      "[50]\ttraining's auc: 0.756006\tvalid_1's auc: 0.738161\n",
      "[75]\ttraining's auc: 0.765712\tvalid_1's auc: 0.743566\n",
      "[100]\ttraining's auc: 0.773633\tvalid_1's auc: 0.747744\n",
      "0.7477137012632505\n",
      "Folder 3:\n",
      "[25]\ttraining's auc: 0.742385\tvalid_1's auc: 0.730985\n",
      "[50]\ttraining's auc: 0.754654\tvalid_1's auc: 0.73861\n",
      "[75]\ttraining's auc: 0.764511\tvalid_1's auc: 0.743999\n",
      "[100]\ttraining's auc: 0.772389\tvalid_1's auc: 0.747955\n",
      "0.7478111214413679\n",
      "Folder 4:\n",
      "[25]\ttraining's auc: 0.743015\tvalid_1's auc: 0.730928\n",
      "[50]\ttraining's auc: 0.756742\tvalid_1's auc: 0.73937\n",
      "[75]\ttraining's auc: 0.765523\tvalid_1's auc: 0.744218\n",
      "[100]\ttraining's auc: 0.77383\tvalid_1's auc: 0.748539\n",
      "0.7487753924385516\n",
      "Folder 5:\n",
      "[25]\ttraining's auc: 0.742632\tvalid_1's auc: 0.731129\n",
      "[50]\ttraining's auc: 0.755401\tvalid_1's auc: 0.738784\n",
      "[75]\ttraining's auc: 0.764501\tvalid_1's auc: 0.743913\n",
      "[100]\ttraining's auc: 0.773064\tvalid_1's auc: 0.748352\n",
      "0.7487788667914658\n",
      "Mean AUC_ROC: 0.748 with 5 folds\n"
     ]
    }
   ],
   "source": [
    "k_fold_training(X_new, y)"
   ]
  },
  {
   "cell_type": "code",
   "execution_count": null,
   "metadata": {},
   "outputs": [],
   "source": []
  }
 ],
 "metadata": {
  "kernelspec": {
   "display_name": "Python 3",
   "language": "python",
   "name": "python3"
  },
  "language_info": {
   "codemirror_mode": {
    "name": "ipython",
    "version": 3
   },
   "file_extension": ".py",
   "mimetype": "text/x-python",
   "name": "python",
   "nbconvert_exporter": "python",
   "pygments_lexer": "ipython3",
   "version": "3.8.3"
  }
 },
 "nbformat": 4,
 "nbformat_minor": 4
}
